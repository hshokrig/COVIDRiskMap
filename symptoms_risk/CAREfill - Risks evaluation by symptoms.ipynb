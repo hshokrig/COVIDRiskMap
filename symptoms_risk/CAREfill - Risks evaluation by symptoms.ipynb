{
 "cells": [
  {
   "cell_type": "markdown",
   "metadata": {},
   "source": [
    "### Inputs"
   ]
  },
  {
   "cell_type": "markdown",
   "metadata": {},
   "source": [
    "##### Basic information"
   ]
  },
  {
   "cell_type": "markdown",
   "metadata": {},
   "source": [
    "* age\n",
    "\n",
    "* sex\n",
    " * pregnant\n",
    "\n",
    "* height\n",
    "* weight"
   ]
  },
  {
   "cell_type": "markdown",
   "metadata": {},
   "source": [
    "##### Symptoms"
   ]
  },
  {
   "cell_type": "markdown",
   "metadata": {},
   "source": [
    "* fever\n",
    "---\n",
    "* fatigue\n",
    "---\n",
    "* sputum_production\n",
    "---\n",
    "* cough\n",
    " * dry\n",
    " * peristent\n",
    "---\n",
    "* smell_change\n",
    "* taste_change\n",
    "---\n",
    "* shortness_of_breath\n",
    "---\n",
    "* chest_pain\n",
    "---\n",
    "* sore_throat\n",
    "---\n",
    "* headache\n",
    "---\n",
    "* myalgia\n",
    "* arthralgia\n",
    "---\n",
    "* chills\n",
    "---\n",
    "* nausea\n",
    "* vomiting\n",
    "---\n",
    "* runny_nose\n",
    "* nasal_congestion\n",
    "---\n",
    "* diarrhea\n",
    "* muscle_pain\n",
    " * abdominal_pain\n",
    "---\n",
    "* hemoptysis\n",
    "---\n",
    "* conjunctival_congestion\n",
    "---\n",
    "* brain_issue"
   ]
  },
  {
   "cell_type": "markdown",
   "metadata": {},
   "source": [
    "##### Past medical history"
   ]
  },
  {
   "cell_type": "markdown",
   "metadata": {},
   "source": [
    "* sinusitis_treatment\n",
    "* antipretic_drugs (aspirin, ibuprufen, naproxen, paracetamol, ...)\n",
    "* smoking (> 5 years)\n",
    "* chronic_respiratory_disease\n",
    "* hypertension\n",
    "* cardiovalcular_disease\n",
    "* diabete\n",
    " * poor_control_diabete\n",
    "* chronic_renal_disease\n",
    "* autoimmune_disease\n",
    "* cancer\n",
    "* organ_transplants\n",
    "* hiv\n",
    "* cytotoxic_drug\n",
    "* immunosuppressive_drug"
   ]
  },
  {
   "attachments": {},
   "cell_type": "markdown",
   "metadata": {},
   "source": [
    "#### Biggest problem: A lot of data is available concerning positive tests and their symptoms, but it's difficult to estimate the statistics of negative cases.\n",
    "\n",
    "Let's define S being the set of every possible symptom events. S<sub>i</sub> represents the event of contractig a certain symptom i.\n",
    "\n",
    "U represent the person information (age, sex, medical_history, ...).\n",
    "\n",
    "C represents the event correspondig to being positive to Coronavirus.\n",
    "\n",
    "H represents the set of severity levels after contracting the Coronavirus.\n",
    "\n",
    "---\n",
    "The goal of our risk estimator is to compute P(C|Sx), with Sx a subset of S.\n",
    "\n",
    "The goal of our severity estimator is to compute H(C,U,S) which can be directly computed from the data.\n",
    "\n",
    "Most of data provide P(Sy|C), with Sy a subset of S.\n",
    "\n",
    "---\n",
    "We can consider having access to P(S|C) with values given from different existing reports. Then, to compute P(C|S) we will need P(C) and P(S<sub>i</sub>) ∀i, which are the variables of our model that we can adjust with data coming from complete data*. P(C) can be computed from Environment (E) model. \n",
    "\n",
    "H(C,U,S) is directly derived from the data statistics."
   ]
  },
  {
   "cell_type": "markdown",
   "metadata": {},
   "source": [
    "#### Model mainly based on Wuhan statistics\n",
    "source: https://www.medrxiv.org/content/10.1101/2020.03.17.20037572v1"
   ]
  },
  {
   "cell_type": "markdown",
   "metadata": {},
   "source": [
    "\"Results: A total of 30 studies including 53000 patients with COVID-19 were included in this study, the mean age was 49.8 years (95% CI, 47.5-52.2 yrs) and 55.5% were male. The pooled incidence of severity and mortality were 20.2% (95% CI, 15.1-25.2%) and 3.1% (95% CI, 1.9-4.2%), respectively. The predictor for disease severity included old age (≥ 50 yrs, odds ratio [OR] = 2.61; 95% CI, 2.29-2.98), male (OR =1.348, 95% CI, 1.195-1.521), smoking (OR =1.734, 95% CI, 1.146-2.626) and any comorbidity (OR = 2.635, 95% CI, 2.098-3.309), especially chronic kidney disease (CKD, OR = 6.017; 95% CI, 2.192-16.514), chronic obstructive pulmonary disease (COPD, OR = 5.323; 95% CI, 2.613-10.847) and cerebrovascular disease (OR = 3.219; 95% CI, 1.486-6.972). In terms of laboratory results, increased lactate dehydrogenase (LDH), C-reactive protein (CRP) and D-dimer and decreased blood platelet and lymphocytes count were highly associated with severe COVID-19 (all for P < 0.001). Meanwhile, old age (≥ 60 yrs, RR = 9.45; 95% CI, 8.09-11.04), followed by cardiovascular disease (RR = 6.75; 95% CI, 5.40-8.43) hypertension (RR = 4.48; 95% CI, 3.69-5.45) and diabetes (RR = 4.43; 95% CI, 3.49-5.61) were found to be independent prognostic factors for the COVID-19 related death. Conclusions: To our knowledge, this is the first evidence-based medicine research to explore the risk factors of prognosis in patients with COVID-19, which is helpful to identify early-stage patients with poor prognosis and adapt effective treatment.\""
   ]
  },
  {
   "cell_type": "markdown",
   "metadata": {},
   "source": [
    "##### Statistics"
   ]
  },
  {
   "cell_type": "markdown",
   "metadata": {},
   "source": [
    "WHO Report\n",
    "\n",
    "Source: https://www.who.int/docs/default-source/coronaviruse/who-china-joint-mission-on-covid-19-final-report.pdf"
   ]
  },
  {
   "cell_type": "code",
   "execution_count": 1,
   "metadata": {},
   "outputs": [],
   "source": [
    "who_stats = {\n",
    "    'fever': 0.879,\n",
    "    'fatigue': 0.381,\n",
    "    'sputum_production': 0.334,\n",
    "    'dry_cough': 0.677,\n",
    "    'shortness_of_breath': 0.186,\n",
    "    'sore_throat': 0.139,\n",
    "    'headache': 0.136,\n",
    "    'myalgia_arthralgia': 0.148,\n",
    "    'chills': 0.114,\n",
    "    'nausea': 0.05,\n",
    "    'nasal_congestion': 0.48,\n",
    "    'diarrhea': 0.37,\n",
    "    'hemoptysis': 0.009,\n",
    "    'conjunctival_congestion': 0.008\n",
    "}"
   ]
  },
  {
   "cell_type": "markdown",
   "metadata": {},
   "source": [
    "##### Prior"
   ]
  },
  {
   "cell_type": "markdown",
   "metadata": {},
   "source": [
    "This is the variable part of our simple bayes model. Those values can be improved with the data that we get from data collection apps.\n",
    "\n",
    "Those values have been invented"
   ]
  },
  {
   "cell_type": "code",
   "execution_count": 2,
   "metadata": {},
   "outputs": [],
   "source": [
    "who_prior = {\n",
    "    'fever': 2e-2,\n",
    "    'fatigue': 5e-2,\n",
    "    'sputum_production': 10e-3,\n",
    "    'dry_cough': 10e-4,\n",
    "    'shortness_of_breath': 5e-4,\n",
    "    'sore_throat': 5e-2,\n",
    "    'headache': 5e-2,\n",
    "    'myalgia_arthralgia': 5e-2,\n",
    "    'chills': 2e-3,\n",
    "    'nausea': 10e-3,\n",
    "    'nasal_congestion': 5e-2,\n",
    "    'diarrhea': 5e-3,\n",
    "    'hemoptysis': 2e-4,\n",
    "    'conjunctival_congestion': 2e-2\n",
    "}"
   ]
  },
  {
   "cell_type": "code",
   "execution_count": 3,
   "metadata": {},
   "outputs": [],
   "source": [
    "covid_prior = 0.01"
   ]
  },
  {
   "cell_type": "code",
   "execution_count": 4,
   "metadata": {},
   "outputs": [],
   "source": [
    "class Symptoms:\n",
    "    def __init__(self, fever=False, fatigue=False, sputum_production=False, cough=False, dry_cough=False,\n",
    "                 persistent_cough=False, smell_change=False, taste_change=False, shortness_of_breath=False,\n",
    "                 breath_worsen=False, chest_pain=False, sore_throat=False, headache=False, myalgia=False,\n",
    "                 arthralgia=False, chills=False, nausea=False, vomiting=False, runny_nose=False,\n",
    "                 nasal_congestion=False, diarrhea=False, muscle_pain=False, abdominal_pain=False,\n",
    "                 hemoptysis=False, conjunctival_congestion=False, brain_issue=False):\n",
    "        \n",
    "        self.fever = fever\n",
    "        self.fatigue = fatigue\n",
    "        self.sputum_production = sputum_production\n",
    "        self.cough = cough or dry_cough or persistent_cough\n",
    "        self.dry_cough = dry_cough\n",
    "        self.persistent_cough = persistent_cough\n",
    "        self.smell_change = smell_change\n",
    "        self.taste_change = taste_change\n",
    "        self.shortness_of_breath = shortness_of_breath or breath_worsen\n",
    "        self.breath_worsen = breath_worsen\n",
    "        self.chest_pain = chest_pain\n",
    "        self.sore_throat = sore_throat\n",
    "        self.headache = headache\n",
    "        self.myalgia = myalgia\n",
    "        self.arthralgia = arthralgia\n",
    "        self.myalgia_arthralgia = myalgia or arthralgia\n",
    "        self.chills = chills\n",
    "        self.nausea = nausea\n",
    "        self.vomiting = vomiting\n",
    "        self.runny_nose = runny_nose\n",
    "        self.nasal_congestion = nasal_congestion\n",
    "        self.diarrhea = diarrhea\n",
    "        self.muscle_pain = muscle_pain or abdominal_pain\n",
    "        self.abdominal_pain = abdominal_pain\n",
    "        self.hemoptysis = hemoptysis\n",
    "        self.conjunctival_congestion = conjunctival_congestion\n",
    "        self.brain_issue = brain_issue"
   ]
  },
  {
   "cell_type": "code",
   "execution_count": 5,
   "metadata": {},
   "outputs": [],
   "source": [
    "class Person:\n",
    "    def __init__(self, age, sex, height, weight, pregnant=False, symptoms=None, medical_history=None):\n",
    "        self.age = age\n",
    "        self.sex = sex\n",
    "        self.height = height\n",
    "        self.weight = weight\n",
    "        self.pregnant = pregnant\n",
    "        self.bmi = weight/(height*height)\n",
    "        \n",
    "        self.symptoms = Symptoms() if symptoms is None else symptoms\n",
    "        self.medical_history = self.MedicalHistory() if medical_history is None else medical_history\n",
    "            \n",
    "    class MedicalHistory:\n",
    "        def __init__(self, sinusitis_treatment=False, smoking=False, chronic_respiratory_disease=False,\n",
    "                     hypertension=False, cardiovalcular_disease=False, diabete=False, poor_control_diabete=False,\n",
    "                     chronic_renal_disease=False, autoimmune_disease=False, cancer=False, organ_transplants=False,\n",
    "                     hiv=False, antipretic_drugs=False, cytotoxic_drug=False, immunosuppressive_drug=False):\n",
    "            \n",
    "            self.sinusitis_treatment=sinusitis_treatment\n",
    "            self.smoking=smoking\n",
    "            self.chronic_respiratory_disease=chronic_respiratory_disease\n",
    "            self.hypertension=hypertension\n",
    "            self.cardiovalcular_disease=cardiovalcular_disease\n",
    "            self.diabete=diabete or poor_control_diabete\n",
    "            self.poor_control_diabete=poor_control_diabete\n",
    "            self.chronic_renal_disease=chronic_renal_disease\n",
    "            self.autoimmune_disease=autoimmune_disease\n",
    "            self.cancer=cancer\n",
    "            self.organ_transplants=organ_transplants\n",
    "            self.hiv=hiv\n",
    "            self.antipretic_drugs=antipretic_drugs\n",
    "            self.cytotoxic_drug=cytotoxic_drug\n",
    "            self.immunosuppressive_drug=immunosuppressive_drug"
   ]
  },
  {
   "cell_type": "code",
   "execution_count": 6,
   "metadata": {},
   "outputs": [],
   "source": [
    "def compute_risk(person):\n",
    "    prob_no_covid = 1\n",
    "    \n",
    "    for symptom in who_stats:\n",
    "        if(getattr(person.symptoms, symptom)):\n",
    "            symptom_stat = who_stats[symptom]\n",
    "            symptom_prior = who_prior[symptom]\n",
    "            \n",
    "            prob_no_covid_for_attribute = 1-(symptom_stat*covid_prior/symptom_prior)\n",
    "            prob_no_covid = prob_no_covid*prob_no_covid_for_attribute\n",
    "        \n",
    "    return 1-prob_no_covid"
   ]
  },
  {
   "cell_type": "markdown",
   "metadata": {},
   "source": [
    "Severity is a number between 0 and 3 which could also depend on the probability to have contracted the virus (to be discussed).\n",
    "\n",
    "TODO: need to adjust the severity increasing according to better sources"
   ]
  },
  {
   "cell_type": "code",
   "execution_count": 7,
   "metadata": {},
   "outputs": [],
   "source": [
    "max_severity = 3"
   ]
  },
  {
   "cell_type": "code",
   "execution_count": 8,
   "metadata": {},
   "outputs": [],
   "source": [
    "def compute_severity(person, risk=None):\n",
    "    severity = 0\n",
    "    \n",
    "    if(risk is None):\n",
    "        risk = compute_risk(person)\n",
    "        \n",
    "    symptoms = person.symptoms\n",
    "    medical_history = person.medical_history\n",
    "    \n",
    "    # High risk symptoms\n",
    "    if(symptoms.chest_pain or symptoms.breath_worsen or symptoms.brain_issue):\n",
    "        return max_severity\n",
    "    \n",
    "    # Other symptoms inducing severity\n",
    "    if((symptoms.smell_change or symptoms.taste_change)\n",
    "       and symptoms.headache and not person.medical_history.sinusitis_treatment):\n",
    "        severity = severity + 1\n",
    "    \n",
    "    # Males\n",
    "    if(person.sex == 'M'):\n",
    "        severity = severity + 1\n",
    "    \n",
    "    # Obesity\n",
    "    if(person.bmi > 40):\n",
    "        severity = severity + 1\n",
    "    \n",
    "    # Age\n",
    "    if(person.age > 50):\n",
    "        severity = severity + 1\n",
    "        \n",
    "        if(person.age > 80):\n",
    "            severity = severity + 1\n",
    "    \n",
    "    # Pregnancy\n",
    "    if(person.pregnant):\n",
    "        severity = severity + 1\n",
    "     \n",
    "    # Respiratory weaknesses\n",
    "    if(medical_history.smoking or medical_history.chronic_respiratory_disease):\n",
    "        severity = severity + 1\n",
    "    \n",
    "    # Autoimmune disabilities\n",
    "    if(medical_history.autoimmune_disease or medical_history.hiv or medical_history.immunosuppressive_drug):\n",
    "        severity = severity + 1\n",
    "        \n",
    "    # Drugs\n",
    "    if(medical_history.antipretic_drugs or medical_history.cytotoxic_drug):\n",
    "        severity = severity + 1\n",
    "    \n",
    "    if(medical_history.poor_control_diabete):\n",
    "        severity = severity + 1\n",
    "    \n",
    "    if(medical_history.cancer):\n",
    "        severity = severity + 1\n",
    "    \n",
    "    if(medical_history.cardiovalcular_disease or medical_history.hypertension):\n",
    "        severity = severity + 1\n",
    "\n",
    "    if(medical_history.chronic_renal_disease):\n",
    "        severity = severity + 1\n",
    "    \n",
    "    if(medical_history.organ_transplants):\n",
    "        severity = severity + 1    \n",
    "    \n",
    "    return min(severity, max_severity)"
   ]
  },
  {
   "cell_type": "markdown",
   "metadata": {},
   "source": [
    "### Testing"
   ]
  },
  {
   "cell_type": "code",
   "execution_count": 9,
   "metadata": {},
   "outputs": [],
   "source": [
    "person1 = Person(age=35, sex='M', height=1.86, weight=220)\n",
    "\n",
    "person2 = Person(age=91, sex='M', height=1.86, weight=75)\n",
    "\n",
    "person3 = Person(age=68, sex='M', height=1.86, weight=75)\n",
    "\n",
    "person4 = Person(age=35, sex='M', height=1.86, weight=75)\n",
    "person4.symptoms.chest_pain = True\n",
    "\n",
    "person5 = Person(age=90, sex='M', height=1.86, weight=220)\n",
    "person5.symptoms.chest_pain = True\n",
    "person5.symptoms.fever = True\n",
    "\n",
    "person6 = Person(age=90, sex='M', height=1.86, weight=220)\n",
    "person6.symptoms.myalgia_arthralgia = True\n",
    "\n",
    "person7 = Person(age=90, sex='M', height=1.86, weight=220)\n",
    "person7.symptoms.myalgia_arthralgia = True\n",
    "person7.symptoms.fatigue = True\n",
    "\n",
    "person8 = Person(age=90, sex='M', height=1.86, weight=220)\n",
    "person8.symptoms.myalgia_arthralgia = True\n",
    "person8.symptoms.fatigue = True\n",
    "person8.symptoms.chills = True\n",
    "person8.symptoms.nosea = True\n",
    "person8.symptoms.nasal_congestion = True"
   ]
  },
  {
   "cell_type": "code",
   "execution_count": 15,
   "metadata": {},
   "outputs": [
    {
     "data": {
      "text/plain": [
       "3"
      ]
     },
     "execution_count": 15,
     "metadata": {},
     "output_type": "execute_result"
    }
   ],
   "source": [
    "compute_severity(person5)"
   ]
  },
  {
   "cell_type": "code",
   "execution_count": 16,
   "metadata": {},
   "outputs": [
    {
     "data": {
      "text/plain": [
       "0.4395"
      ]
     },
     "execution_count": 16,
     "metadata": {},
     "output_type": "execute_result"
    }
   ],
   "source": [
    "compute_risk(person5)"
   ]
  },
  {
   "cell_type": "code",
   "execution_count": 17,
   "metadata": {},
   "outputs": [
    {
     "data": {
      "text/plain": [
       "0.02959999999999996"
      ]
     },
     "execution_count": 17,
     "metadata": {},
     "output_type": "execute_result"
    }
   ],
   "source": [
    "compute_risk(person6)"
   ]
  },
  {
   "cell_type": "code",
   "execution_count": 18,
   "metadata": {},
   "outputs": [
    {
     "data": {
      "text/plain": [
       "0.10354448000000005"
      ]
     },
     "execution_count": 18,
     "metadata": {},
     "output_type": "execute_result"
    }
   ],
   "source": [
    "compute_risk(person7)"
   ]
  },
  {
   "cell_type": "code",
   "execution_count": 19,
   "metadata": {},
   "outputs": [
    {
     "data": {
      "text/plain": [
       "0.6515298102656001"
      ]
     },
     "execution_count": 19,
     "metadata": {},
     "output_type": "execute_result"
    }
   ],
   "source": [
    "compute_risk(person8)"
   ]
  }
 ],
 "metadata": {
  "kernelspec": {
   "display_name": "Python 3",
   "language": "python",
   "name": "python3"
  },
  "language_info": {
   "codemirror_mode": {
    "name": "ipython",
    "version": 3
   },
   "file_extension": ".py",
   "mimetype": "text/x-python",
   "name": "python",
   "nbconvert_exporter": "python",
   "pygments_lexer": "ipython3",
   "version": "3.7.6"
  }
 },
 "nbformat": 4,
 "nbformat_minor": 4
}
